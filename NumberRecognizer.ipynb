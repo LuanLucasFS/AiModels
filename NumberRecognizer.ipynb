{
  "nbformat": 4,
  "nbformat_minor": 0,
  "metadata": {
    "colab": {
      "provenance": [],
      "include_colab_link": true
    },
    "kernelspec": {
      "name": "python3",
      "display_name": "Python 3"
    },
    "language_info": {
      "name": "python"
    }
  },
  "cells": [
    {
      "cell_type": "markdown",
      "metadata": {
        "id": "view-in-github",
        "colab_type": "text"
      },
      "source": [
        "<a href=\"https://colab.research.google.com/github/LuanLucasFS/AiModels/blob/main/NumberRecognizer.ipynb\" target=\"_parent\"><img src=\"https://colab.research.google.com/assets/colab-badge.svg\" alt=\"Open In Colab\"/></a>"
      ]
    },
    {
      "cell_type": "markdown",
      "source": [
        "#[1] Importação de Bibliotecas"
      ],
      "metadata": {
        "id": "KM_WEZJmnxZz"
      }
    },
    {
      "cell_type": "code",
      "execution_count": 2,
      "metadata": {
        "id": "awSEG8HVCXtE"
      },
      "outputs": [],
      "source": [
        "import pandas as pd\n",
        "import numpy as np\n",
        "import matplotlib.pyplot as plt\n",
        "import seaborn as sns\n",
        "import cv2\n",
        "from sklearn.model_selection import train_test_split, cross_val_score\n",
        "from sklearn.neighbors import KNeighborsClassifier\n",
        "from sklearn.impute import SimpleImputer\n",
        "from sklearn.metrics import accuracy_score, confusion_matrix, classification_report\n",
        "from tensorflow.keras.models import Sequential\n",
        "from tensorflow.keras.layers import Dense, Dropout, BatchNormalization, LeakyReLU\n",
        "from tensorflow.keras.utils import to_categorical\n",
        "from tensorflow.keras.callbacks import EarlyStopping\n",
        "from tensorflow.keras.preprocessing.image import ImageDataGenerator\n",
        "from google.colab import files"
      ]
    },
    {
      "cell_type": "markdown",
      "source": [
        "Função: Importa todas as bibliotecas necessárias.\n",
        "\n",
        "Detalhes:\n",
        "\n",
        "* pandas/numpy: Manipulação de dados\n",
        "\n",
        "* matplotlib/seaborn: Visualizações gráficas\n",
        "\n",
        "* cv2: Processamento de imagens\n",
        "\n",
        "* sklearn: Algoritmos de ML (KNN) e métricas\n",
        "\n",
        "* tensorflow.keras: Construção de redes neurais\n",
        "\n",
        "* google.colab: Upload de arquivos no Colab."
      ],
      "metadata": {
        "id": "JPgpDw-wn1ft"
      }
    },
    {
      "cell_type": "markdown",
      "source": [
        "#[2] Carregamento dos Dados"
      ],
      "metadata": {
        "id": "EYos3-yZoBCw"
      }
    },
    {
      "cell_type": "code",
      "source": [
        "# Carregando os dados\n",
        "data = pd.read_csv('/content/sample_data/train.csv')\n",
        "x, y = data.drop(['label'], axis=1).values, data['label'].values"
      ],
      "metadata": {
        "id": "aSDHf8KvDDyO"
      },
      "execution_count": 4,
      "outputs": []
    },
    {
      "cell_type": "markdown",
      "source": [
        "Função: Carrega o dataset MNIST (dígitos manuscritos).\n",
        "\n",
        "Detalhes:\n",
        "\n",
        "* x: Features (pixels das imagens 28x28 achatados em vetores de 784 elementos).\n",
        "\n",
        "* y: Labels (números de 0 a 9)."
      ],
      "metadata": {
        "id": "n0Ahs1VToDJb"
      }
    },
    {
      "cell_type": "markdown",
      "source": [
        "#[3] Normalização"
      ],
      "metadata": {
        "id": "gGVZTMiHoH26"
      }
    },
    {
      "cell_type": "code",
      "source": [
        "# Normalização dos dados (0 a 1)\n",
        "x = x / 255.0"
      ],
      "metadata": {
        "id": "mVfluWKvDGcW"
      },
      "execution_count": 5,
      "outputs": []
    },
    {
      "cell_type": "markdown",
      "source": [
        "Função: Escala os valores dos pixels para o intervalo [0, 1].\n",
        "\n",
        "Por quê? Valores entre 0 e 1 aceleram o treinamento e melhoram o desempenho do modelo."
      ],
      "metadata": {
        "id": "geIObA_qoJpC"
      }
    },
    {
      "cell_type": "markdown",
      "source": [
        "#[4] Divisão dos Dados"
      ],
      "metadata": {
        "id": "gqDxR7OQoQhj"
      }
    },
    {
      "cell_type": "code",
      "source": [
        "# Divisão dos dados\n",
        "test_size = 42000 - 38000  # 4.000 exemplos para teste\n",
        "x_train, x_test, y_train, y_test = train_test_split(x, y, test_size=test_size, random_state=42)"
      ],
      "metadata": {
        "id": "fvKJmBniDJJO"
      },
      "execution_count": 6,
      "outputs": []
    },
    {
      "cell_type": "markdown",
      "source": [
        "Função: Divide os dados em treino (38.000 amostras) e teste (4.000 amostras).\n",
        "\n",
        "Detalhes:\n",
        "\n",
        "* random_state=42: Garante reprodutibilidade na divisão."
      ],
      "metadata": {
        "id": "4j26IfHyoRf6"
      }
    },
    {
      "cell_type": "markdown",
      "source": [
        "#[5] Imputação de Valores Ausentes"
      ],
      "metadata": {
        "id": "juF0qxqioV4a"
      }
    },
    {
      "cell_type": "code",
      "source": [
        "# Imputação para tratar valores ausentes\n",
        "imputer = SimpleImputer(strategy='mean')\n",
        "x_train = imputer.fit_transform(x_train)\n",
        "x_test = imputer.transform(x_test)"
      ],
      "metadata": {
        "id": "dZgXjBI1DMXl"
      },
      "execution_count": 7,
      "outputs": []
    },
    {
      "cell_type": "markdown",
      "source": [
        "Função: Preenche valores faltantes (se existirem) com a média das features.\n",
        "\n",
        "Observação: MNIST geralmente não tem valores ausentes, mas é uma boa prática preventiva."
      ],
      "metadata": {
        "id": "S9sAlgIfoXcr"
      }
    },
    {
      "cell_type": "markdown",
      "source": [
        "#[6] Busca do Melhor k para KNN"
      ],
      "metadata": {
        "id": "XkkIfPpOoaQq"
      }
    },
    {
      "cell_type": "code",
      "source": [
        "# Ajuste do k no KNN\n",
        "def find_best_k():\n",
        "    k_values = range(1, 21)\n",
        "    scores = [cross_val_score(KNeighborsClassifier(n_neighbors=k), x_train, y_train, cv=5).mean() for k in k_values]\n",
        "    best_k = k_values[np.argmax(scores)]\n",
        "    return best_k"
      ],
      "metadata": {
        "id": "Rzd2S9haDPC7"
      },
      "execution_count": 8,
      "outputs": []
    },
    {
      "cell_type": "markdown",
      "source": [
        "Função: Encontra o k ideal para KNN via validação cruzada (k com maior acurácia)."
      ],
      "metadata": {
        "id": "_by0ovTHocj6"
      }
    },
    {
      "cell_type": "code",
      "source": [
        "best_k = find_best_k()\n",
        "print(f'Melhor valor de k: {best_k}')"
      ],
      "metadata": {
        "colab": {
          "base_uri": "https://localhost:8080/",
          "height": 0
        },
        "id": "O4Mj8aRPDSEL",
        "outputId": "712d52d2-f8ce-43f3-bdd5-58591d5b7746"
      },
      "execution_count": 12,
      "outputs": [
        {
          "output_type": "stream",
          "name": "stdout",
          "text": [
            "Melhor valor de k: 1\n"
          ]
        }
      ]
    },
    {
      "cell_type": "markdown",
      "source": [
        "#[7] Treinamento e Avaliação do KNN"
      ],
      "metadata": {
        "id": "L3lF92N3pAH0"
      }
    },
    {
      "cell_type": "code",
      "source": [
        "# Modelo KNN\n",
        "knn = KNeighborsClassifier(n_neighbors=best_k)\n",
        "knn.fit(x_train, y_train)\n",
        "preds_knn = knn.predict(x_test)\n",
        "print(f'Acurácia do KNN: {accuracy_score(y_test, preds_knn)}')\n",
        "print(f'Matriz de Confusão do KNN:\\n{confusion_matrix(y_test, preds_knn)}')"
      ],
      "metadata": {
        "colab": {
          "base_uri": "https://localhost:8080/",
          "height": 0
        },
        "id": "i2Hc0TeYDWBP",
        "outputId": "2e2095f2-4e3a-4f9a-ff30-c82076a0bce1"
      },
      "execution_count": 13,
      "outputs": [
        {
          "output_type": "stream",
          "name": "stdout",
          "text": [
            "Acurácia do KNN: 0.939\n",
            "Matriz de Confusão do KNN:\n",
            "[[384   0   1   0   0   2   4   0   0   0]\n",
            " [  0 420   1   2   0   1   3   2   0   1]\n",
            " [  3  10 400   5   3   1   0  10   4   3]\n",
            " [  1   2   3 368   0   7   0   1   4   2]\n",
            " [  0   5   0   0 374   0   1   0   0  18]\n",
            " [  1   1   0   7   0 349   4   0   0   6]\n",
            " [  3   0   0   0   3   1 390   0   0   1]\n",
            " [  0   3   6   1   2   0   0 382   0   9]\n",
            " [  5   7   1  13   1  14   4   1 335   8]\n",
            " [  1   3   2   1  16   3   1  14   1 354]]\n"
          ]
        }
      ]
    },
    {
      "cell_type": "markdown",
      "source": [
        "Saídas:\n",
        "\n",
        "* Acurácia: Porcentagem de acertos.\n",
        "\n",
        "* Matriz de Confusão: Comparação entre previsões e valores reais.\n",
        "\n"
      ],
      "metadata": {
        "id": "mfthDox-pCMp"
      }
    },
    {
      "cell_type": "markdown",
      "source": [
        "#[8] One-Hot Encoding"
      ],
      "metadata": {
        "id": "35sS0FGCpGzz"
      }
    },
    {
      "cell_type": "code",
      "source": [
        "# One-hot encoding das saídas\n",
        "y_train = to_categorical(y_train)\n",
        "y_test = to_categorical(y_test)"
      ],
      "metadata": {
        "id": "N6vIBhwoDXuu"
      },
      "execution_count": 14,
      "outputs": []
    },
    {
      "cell_type": "markdown",
      "source": [
        "Função: Converte labels numéricos em vetores binários (ex.: 2 → [0,0,1,0,...,0]).\n",
        "\n",
        "Por quê? Necessário para redes neurais com saída multiclasse."
      ],
      "metadata": {
        "id": "EJQUD8WqpIkd"
      }
    },
    {
      "cell_type": "markdown",
      "source": [
        "#[9] Arquitetura da Rede Neural"
      ],
      "metadata": {
        "id": "vMCFYcjipNLC"
      }
    },
    {
      "cell_type": "code",
      "source": [
        "# Modelo de Rede Neural\n",
        "model = Sequential()\n",
        "model.add(Dense(128, input_shape=(x_train.shape[1],)))\n",
        "model.add(LeakyReLU(negative_slope=0.01))\n",
        "model.add(BatchNormalization())\n",
        "model.add(Dropout(0.3))\n",
        "\n",
        "model.add(Dense(64))\n",
        "model.add(LeakyReLU(negative_slope=0.01))\n",
        "model.add(BatchNormalization())\n",
        "model.add(Dropout(0.3))\n",
        "\n",
        "model.add(Dense(32))\n",
        "model.add(LeakyReLU(negative_slope=0.01))\n",
        "model.add(BatchNormalization())\n",
        "model.add(Dropout(0.3))\n",
        "\n",
        "model.add(Dense(10, activation='softmax'))\n",
        "\n",
        "model.compile(loss='categorical_crossentropy', optimizer='adam', metrics=['accuracy'])\n"
      ],
      "metadata": {
        "id": "BXtTvQ8oDZhL",
        "colab": {
          "base_uri": "https://localhost:8080/",
          "height": 0
        },
        "outputId": "5472c300-650e-4103-c21b-73a47972815b"
      },
      "execution_count": 15,
      "outputs": [
        {
          "output_type": "stream",
          "name": "stderr",
          "text": [
            "/usr/local/lib/python3.11/dist-packages/keras/src/layers/core/dense.py:87: UserWarning: Do not pass an `input_shape`/`input_dim` argument to a layer. When using Sequential models, prefer using an `Input(shape)` object as the first layer in the model instead.\n",
            "  super().__init__(activity_regularizer=activity_regularizer, **kwargs)\n"
          ]
        }
      ]
    },
    {
      "cell_type": "markdown",
      "source": [
        "Detalhes:\n",
        "\n",
        "* 3 camadas ocultas com regularização (Dropout + BatchNorm).\n",
        "\n",
        "* LeakyReLU: Versão da ReLU que evita \"neurônios mortos\".\n",
        "\n",
        "* softmax: Saída probabilística para 10 classes."
      ],
      "metadata": {
        "id": "sP1pQNoepPUr"
      }
    },
    {
      "cell_type": "markdown",
      "source": [
        "#[10] Early Stopping"
      ],
      "metadata": {
        "id": "3awEmmlKpVJb"
      }
    },
    {
      "cell_type": "code",
      "source": [
        "# Early Stopping\n",
        "early_stop = EarlyStopping(monitor='val_loss', patience=10, restore_best_weights=True)"
      ],
      "metadata": {
        "id": "S1WzaozjDbSo"
      },
      "execution_count": 16,
      "outputs": []
    },
    {
      "cell_type": "markdown",
      "source": [
        "Função: Interrompe o treinamento se a perda de validação não melhorar em 10 épocas.\n",
        "\n",
        "Vantagem: Evita overfitting e economiza tempo."
      ],
      "metadata": {
        "id": "UDjZzukhpWgS"
      }
    },
    {
      "cell_type": "markdown",
      "source": [
        "#[11] Treinamento da Rede"
      ],
      "metadata": {
        "id": "SGMhxVr8pZoR"
      }
    },
    {
      "cell_type": "code",
      "source": [
        "# Treinamento\n",
        "model.fit(x_train, y_train, epochs=200, batch_size=32, validation_split=0.2, callbacks=[early_stop], verbose=2)"
      ],
      "metadata": {
        "colab": {
          "base_uri": "https://localhost:8080/",
          "height": 0
        },
        "id": "ee4-nBTXDdDu",
        "outputId": "afcd53d4-ab5c-47bc-ae92-f9950781a6cc"
      },
      "execution_count": 17,
      "outputs": [
        {
          "output_type": "stream",
          "name": "stdout",
          "text": [
            "Epoch 1/200\n",
            "144/144 - 10s - 70ms/step - accuracy: 0.5398 - loss: 1.4536 - val_accuracy: 0.8094 - val_loss: 0.9367\n",
            "Epoch 2/200\n",
            "144/144 - 1s - 5ms/step - accuracy: 0.7590 - loss: 0.7844 - val_accuracy: 0.8938 - val_loss: 0.4341\n",
            "Epoch 3/200\n",
            "144/144 - 1s - 9ms/step - accuracy: 0.8226 - loss: 0.6063 - val_accuracy: 0.9182 - val_loss: 0.3276\n",
            "Epoch 4/200\n",
            "144/144 - 1s - 9ms/step - accuracy: 0.8592 - loss: 0.4980 - val_accuracy: 0.9295 - val_loss: 0.2607\n",
            "Epoch 5/200\n",
            "144/144 - 1s - 6ms/step - accuracy: 0.8742 - loss: 0.4308 - val_accuracy: 0.9312 - val_loss: 0.2527\n",
            "Epoch 6/200\n",
            "144/144 - 1s - 9ms/step - accuracy: 0.8894 - loss: 0.3898 - val_accuracy: 0.9391 - val_loss: 0.2296\n",
            "Epoch 7/200\n",
            "144/144 - 2s - 14ms/step - accuracy: 0.8999 - loss: 0.3496 - val_accuracy: 0.9330 - val_loss: 0.2307\n",
            "Epoch 8/200\n",
            "144/144 - 1s - 6ms/step - accuracy: 0.9155 - loss: 0.2993 - val_accuracy: 0.9408 - val_loss: 0.2156\n",
            "Epoch 9/200\n",
            "144/144 - 1s - 8ms/step - accuracy: 0.9123 - loss: 0.2923 - val_accuracy: 0.9426 - val_loss: 0.2083\n",
            "Epoch 10/200\n",
            "144/144 - 1s - 8ms/step - accuracy: 0.9162 - loss: 0.2802 - val_accuracy: 0.9434 - val_loss: 0.2046\n",
            "Epoch 11/200\n",
            "144/144 - 1s - 6ms/step - accuracy: 0.9212 - loss: 0.2697 - val_accuracy: 0.9399 - val_loss: 0.2181\n",
            "Epoch 12/200\n",
            "144/144 - 1s - 6ms/step - accuracy: 0.9221 - loss: 0.2498 - val_accuracy: 0.9399 - val_loss: 0.2255\n",
            "Epoch 13/200\n",
            "144/144 - 1s - 5ms/step - accuracy: 0.9286 - loss: 0.2452 - val_accuracy: 0.9487 - val_loss: 0.1972\n",
            "Epoch 14/200\n",
            "144/144 - 1s - 9ms/step - accuracy: 0.9347 - loss: 0.2197 - val_accuracy: 0.9434 - val_loss: 0.2085\n",
            "Epoch 15/200\n",
            "144/144 - 1s - 6ms/step - accuracy: 0.9397 - loss: 0.2068 - val_accuracy: 0.9417 - val_loss: 0.2233\n",
            "Epoch 16/200\n",
            "144/144 - 1s - 10ms/step - accuracy: 0.9484 - loss: 0.1848 - val_accuracy: 0.9469 - val_loss: 0.1903\n",
            "Epoch 17/200\n",
            "144/144 - 1s - 9ms/step - accuracy: 0.9428 - loss: 0.2044 - val_accuracy: 0.9347 - val_loss: 0.2359\n",
            "Epoch 18/200\n",
            "144/144 - 1s - 7ms/step - accuracy: 0.9467 - loss: 0.1866 - val_accuracy: 0.9452 - val_loss: 0.2178\n",
            "Epoch 19/200\n",
            "144/144 - 1s - 6ms/step - accuracy: 0.9462 - loss: 0.1767 - val_accuracy: 0.9417 - val_loss: 0.2028\n",
            "Epoch 20/200\n",
            "144/144 - 1s - 9ms/step - accuracy: 0.9454 - loss: 0.1803 - val_accuracy: 0.9452 - val_loss: 0.2137\n",
            "Epoch 21/200\n",
            "144/144 - 1s - 8ms/step - accuracy: 0.9491 - loss: 0.1782 - val_accuracy: 0.9504 - val_loss: 0.1983\n",
            "Epoch 22/200\n",
            "144/144 - 1s - 6ms/step - accuracy: 0.9523 - loss: 0.1547 - val_accuracy: 0.9521 - val_loss: 0.1965\n",
            "Epoch 23/200\n",
            "144/144 - 1s - 8ms/step - accuracy: 0.9519 - loss: 0.1629 - val_accuracy: 0.9478 - val_loss: 0.1917\n",
            "Epoch 24/200\n",
            "144/144 - 1s - 5ms/step - accuracy: 0.9552 - loss: 0.1608 - val_accuracy: 0.9478 - val_loss: 0.2174\n",
            "Epoch 25/200\n",
            "144/144 - 1s - 9ms/step - accuracy: 0.9493 - loss: 0.1752 - val_accuracy: 0.9478 - val_loss: 0.2048\n",
            "Epoch 26/200\n",
            "144/144 - 1s - 6ms/step - accuracy: 0.9571 - loss: 0.1470 - val_accuracy: 0.9478 - val_loss: 0.2211\n"
          ]
        },
        {
          "output_type": "execute_result",
          "data": {
            "text/plain": [
              "<keras.src.callbacks.history.History at 0x787067adebd0>"
            ]
          },
          "metadata": {},
          "execution_count": 17
        }
      ]
    },
    {
      "cell_type": "markdown",
      "source": [
        "Detalhes:\n",
        "\n",
        "* validation_split=0.2: 20% dos dados de treino são usados para validação.\n",
        "\n",
        "* batch_size=32: Atualiza os pesos a cada 32 amostras."
      ],
      "metadata": {
        "id": "YGyBZJm7pb45"
      }
    },
    {
      "cell_type": "markdown",
      "source": [
        "#[12] Avaliação da Rede Neural"
      ],
      "metadata": {
        "id": "pMm11k8cptnC"
      }
    },
    {
      "cell_type": "code",
      "source": [
        "# Avaliação\n",
        "eval_results = model.evaluate(x_test, y_test)\n",
        "print(f'Acurácia da Rede Neural: {eval_results[1]}')"
      ],
      "metadata": {
        "colab": {
          "base_uri": "https://localhost:8080/",
          "height": 0
        },
        "id": "mUPGHOw7DlV7",
        "outputId": "cdb6ebf0-5702-4a07-8ae9-ed6192cfdca5"
      },
      "execution_count": 18,
      "outputs": [
        {
          "output_type": "stream",
          "name": "stdout",
          "text": [
            "\u001b[1m125/125\u001b[0m \u001b[32m━━━━━━━━━━━━━━━━━━━━\u001b[0m\u001b[37m\u001b[0m \u001b[1m0s\u001b[0m 2ms/step - accuracy: 0.9362 - loss: 0.2293\n",
            "Acurácia da Rede Neural: 0.937250018119812\n"
          ]
        }
      ]
    },
    {
      "cell_type": "markdown",
      "source": [
        "Saída: Mostra a acurácia final no conjunto de teste."
      ],
      "metadata": {
        "id": "wLAxkWg7pwem"
      }
    },
    {
      "cell_type": "markdown",
      "source": [
        "#[13] Teste com Imagens Individuais"
      ],
      "metadata": {
        "id": "3t9HggaFpxzC"
      }
    },
    {
      "cell_type": "code",
      "source": [
        "# Teste com imagens individuais\n",
        "num_test_samples = 10\n",
        "indices = np.random.choice(len(x_test), num_test_samples, replace=False)\n",
        "\n",
        "plt.figure(figsize=(12, 6))\n",
        "for i, idx in enumerate(indices):\n",
        "    img = x_test[idx].reshape(28, 28)\n",
        "    true_label = np.argmax(y_test[idx])\n",
        "    pred_label = np.argmax(model.predict(x_test[idx].reshape(1, -1)))\n",
        "    plt.subplot(2, 5, i + 1)\n",
        "    plt.imshow(img, cmap='gray')\n",
        "    plt.title(f'True: {true_label}\\nPred: {pred_label}', color='green' if true_label == pred_label else 'red')\n",
        "    plt.axis('off')\n",
        "plt.show()"
      ],
      "metadata": {
        "colab": {
          "base_uri": "https://localhost:8080/",
          "height": 666
        },
        "id": "8zeTSprxb0J-",
        "outputId": "d996f0a3-4ff2-4456-af46-e159c4c58d73"
      },
      "execution_count": 19,
      "outputs": [
        {
          "output_type": "stream",
          "name": "stdout",
          "text": [
            "\u001b[1m1/1\u001b[0m \u001b[32m━━━━━━━━━━━━━━━━━━━━\u001b[0m\u001b[37m\u001b[0m \u001b[1m0s\u001b[0m 126ms/step\n",
            "\u001b[1m1/1\u001b[0m \u001b[32m━━━━━━━━━━━━━━━━━━━━\u001b[0m\u001b[37m\u001b[0m \u001b[1m0s\u001b[0m 35ms/step\n",
            "\u001b[1m1/1\u001b[0m \u001b[32m━━━━━━━━━━━━━━━━━━━━\u001b[0m\u001b[37m\u001b[0m \u001b[1m0s\u001b[0m 36ms/step\n",
            "\u001b[1m1/1\u001b[0m \u001b[32m━━━━━━━━━━━━━━━━━━━━\u001b[0m\u001b[37m\u001b[0m \u001b[1m0s\u001b[0m 35ms/step\n",
            "\u001b[1m1/1\u001b[0m \u001b[32m━━━━━━━━━━━━━━━━━━━━\u001b[0m\u001b[37m\u001b[0m \u001b[1m0s\u001b[0m 34ms/step\n",
            "\u001b[1m1/1\u001b[0m \u001b[32m━━━━━━━━━━━━━━━━━━━━\u001b[0m\u001b[37m\u001b[0m \u001b[1m0s\u001b[0m 37ms/step\n",
            "\u001b[1m1/1\u001b[0m \u001b[32m━━━━━━━━━━━━━━━━━━━━\u001b[0m\u001b[37m\u001b[0m \u001b[1m0s\u001b[0m 36ms/step\n",
            "\u001b[1m1/1\u001b[0m \u001b[32m━━━━━━━━━━━━━━━━━━━━\u001b[0m\u001b[37m\u001b[0m \u001b[1m0s\u001b[0m 39ms/step\n",
            "\u001b[1m1/1\u001b[0m \u001b[32m━━━━━━━━━━━━━━━━━━━━\u001b[0m\u001b[37m\u001b[0m \u001b[1m0s\u001b[0m 38ms/step\n",
            "\u001b[1m1/1\u001b[0m \u001b[32m━━━━━━━━━━━━━━━━━━━━\u001b[0m\u001b[37m\u001b[0m \u001b[1m0s\u001b[0m 41ms/step\n"
          ]
        },
        {
          "output_type": "display_data",
          "data": {
            "text/plain": [
              "<Figure size 1200x600 with 10 Axes>"
            ],
            "image/png": "[encoded data removed]"
          },
          "metadata": {}
        }
      ]
    },
    {
      "cell_type": "markdown",
      "source": [
        "Função: Seleciona 10 imagens aleatórias do teste, mostra a imagem com rótulo real e previsto.\n",
        "Cores:\n",
        "\n",
        "* Verde: Acerto\n",
        "\n",
        "* Vermelho: Erro"
      ],
      "metadata": {
        "id": "O9JBQuBFp0u7"
      }
    },
    {
      "cell_type": "markdown",
      "source": [
        "#[14] Matriz de Confusão"
      ],
      "metadata": {
        "id": "6hP2oZ5-tcFt"
      }
    },
    {
      "cell_type": "code",
      "source": [
        "# Matriz de Confusão\n",
        "preds_nn = model.predict(x_test)\n",
        "preds_nn_labels = np.argmax(preds_nn, axis=1)\n",
        "y_test_labels = np.argmax(y_test, axis=1)\n",
        "\n",
        "cm = confusion_matrix(y_test_labels, preds_nn_labels)\n",
        "plt.figure(figsize=(10, 8))\n",
        "sns.heatmap(cm, annot=True, fmt='d', cmap='Blues', xticklabels=range(10), yticklabels=range(10))\n",
        "plt.xlabel('Predito')\n",
        "plt.ylabel('Real')\n",
        "plt.title('Matriz de Confusão - Rede Neural')\n",
        "plt.show()"
      ],
      "metadata": {
        "id": "2MicZK8Vqcy5"
      },
      "execution_count": null,
      "outputs": []
    },
    {
      "cell_type": "markdown",
      "source": [
        "Função: Mostra quantas vezes cada classe foi classificada corretamente ou confundida com outras."
      ],
      "metadata": {
        "id": "7B3wlQWIteDJ"
      }
    },
    {
      "cell_type": "markdown",
      "source": [
        "#[15] Relatório de Classificação"
      ],
      "metadata": {
        "id": "hEmqtueStf8S"
      }
    },
    {
      "cell_type": "code",
      "source": [
        "# Relatório de Classificação\n",
        "print('Relatório de Classificação - Rede Neural:\\n', classification_report(y_test_labels, preds_nn_labels))"
      ],
      "metadata": {
        "id": "iZACAIo8qdxy"
      },
      "execution_count": null,
      "outputs": []
    },
    {
      "cell_type": "markdown",
      "source": [
        "Saída: Exibe precisão, recall e F1-score para cada classe (0-9)."
      ],
      "metadata": {
        "id": "mNnz4Zk8th3j"
      }
    },
    {
      "cell_type": "markdown",
      "source": [
        "#[16-19] Teste com Imagem Personalizada"
      ],
      "metadata": {
        "id": "ZEWLMgrnp5yM"
      }
    },
    {
      "cell_type": "code",
      "source": [
        "# Carregar imagem personalizada para teste\n",
        "uploaded = files.upload()\n",
        "image_path = list(uploaded.keys())[0]\n",
        "\n",
        "def preprocess_image(image_path):\n",
        "    img = cv2.imread(image_path, cv2.IMREAD_GRAYSCALE)  # Ler em escala de cinza\n",
        "    img = cv2.resize(img, (28, 28))  # Redimensionar para 28x28 pixels\n",
        "    img = img / 255.0  # Normalizar os pixels para faixa 0-1\n",
        "    img = img.reshape(1, -1)  # Achatar para um vetor de entrada\n",
        "    return img\n",
        "\n",
        "# Pré-processar a imagem\n",
        "img = preprocess_image(image_path)\n",
        "\n",
        "# Fazer a previsão\n",
        "prediction = np.argmax(model.predict(img))\n",
        "print(f'O modelo previu: {prediction}')\n",
        "\n",
        "# Exibir a imagem carregada\n",
        "plt.imshow(cv2.imread(image_path, cv2.IMREAD_GRAYSCALE), cmap='gray')\n",
        "plt.title(f'Predição: {prediction}')\n",
        "plt.axis('off')\n",
        "plt.show()\n"
      ],
      "metadata": {
        "colab": {
          "base_uri": "https://localhost:8080/",
          "height": 517
        },
        "id": "2TLjeIifdwOv",
        "outputId": "7c6f33c6-5706-405d-da90-75824142f7d7"
      },
      "execution_count": null,
      "outputs": [
        {
          "output_type": "display_data",
          "data": {
            "text/plain": [
              "<IPython.core.display.HTML object>"
            ],
            "text/html": [
              "\n",
              "     <input type=\"file\" id=\"files-bce81b80-9b4e-44db-80bc-b2fb7fa3e04f\" name=\"files[]\" multiple disabled\n",
              "        style=\"border:none\" />\n",
              "     <output id=\"result-bce81b80-9b4e-44db-80bc-b2fb7fa3e04f\">\n",
              "      Upload widget is only available when the cell has been executed in the\n",
              "      current browser session. Please rerun this cell to enable.\n",
              "      </output>\n",
              "      <script>// Copyright 2017 Google LLC\n",
              "//\n",
              "// Licensed under the Apache License, Version 2.0 (the \"License\");\n",
              "// you may not use this file except in compliance with the License.\n",
              "// You may obtain a copy of the License at\n",
              "//\n",
              "//      http://www.apache.org/licenses/LICENSE-2.0\n",
              "//\n",
              "// Unless required by applicable law or agreed to in writing, software\n",
              "// distributed under the License is distributed on an \"AS IS\" BASIS,\n",
              "// WITHOUT WARRANTIES OR CONDITIONS OF ANY KIND, either express or implied.\n",
              "// See the License for the specific language governing permissions and\n",
              "// limitations under the License.\n",
              "\n",
              "/**\n",
              " * @fileoverview Helpers for google.colab Python module.\n",
              " */\n",
              "(function(scope) {\n",
              "function span(text, styleAttributes = {}) {\n",
              "  const element = document.createElement('span');\n",
              "  element.textContent = text;\n",
              "  for (const key of Object.keys(styleAttributes)) {\n",
              "    element.style[key] = styleAttributes[key];\n",
              "  }\n",
              "  return element;\n",
              "}\n",
              "\n",
              "// Max number of bytes which will be uploaded at a time.\n",
              "const MAX_PAYLOAD_SIZE = 100 * 1024;\n",
              "\n",
              "function _uploadFiles(inputId, outputId) {\n",
              "  const steps = uploadFilesStep(inputId, outputId);\n",
              "  const outputElement = document.getElementById(outputId);\n",
              "  // Cache steps on the outputElement to make it available for the next call\n",
              "  // to uploadFilesContinue from Python.\n",
              "  outputElement.steps = steps;\n",
              "\n",
              "  return _uploadFilesContinue(outputId);\n",
              "}\n",
              "\n",
              "// This is roughly an async generator (not supported in the browser yet),\n",
              "// where there are multiple asynchronous steps and the Python side is going\n",
              "// to poll for completion of each step.\n",
              "// This uses a Promise to block the python side on completion of each step,\n",
              "// then passes the result of the previous step as the input to the next step.\n",
              "function _uploadFilesContinue(outputId) {\n",
              "  const outputElement = document.getElementById(outputId);\n",
              "  const steps = outputElement.steps;\n",
              "\n",
              "  const next = steps.next(outputElement.lastPromiseValue);\n",
              "  return Promise.resolve(next.value.promise).then((value) => {\n",
              "    // Cache the last promise value to make it available to the next\n",
              "    // step of the generator.\n",
              "    outputElement.lastPromiseValue = value;\n",
              "    return next.value.response;\n",
              "  });\n",
              "}\n",
              "\n",
              "/**\n",
              " * Generator function which is called between each async step of the upload\n",
              " * process.\n",
              " * @param {string} inputId Element ID of the input file picker element.\n",
              " * @param {string} outputId Element ID of the output display.\n",
              " * @return {!Iterable<!Object>} Iterable of next steps.\n",
              " */\n",
              "function* uploadFilesStep(inputId, outputId) {\n",
              "  const inputElement = document.getElementById(inputId);\n",
              "  inputElement.disabled = false;\n",
              "\n",
              "  const outputElement = document.getElementById(outputId);\n",
              "  outputElement.innerHTML = '';\n",
              "\n",
              "  const pickedPromise = new Promise((resolve) => {\n",
              "    inputElement.addEventListener('change', (e) => {\n",
              "      resolve(e.target.files);\n",
              "    });\n",
              "  });\n",
              "\n",
              "  const cancel = document.createElement('button');\n",
              "  inputElement.parentElement.appendChild(cancel);\n",
              "  cancel.textContent = 'Cancel upload';\n",
              "  const cancelPromise = new Promise((resolve) => {\n",
              "    cancel.onclick = () => {\n",
              "      resolve(null);\n",
              "    };\n",
              "  });\n",
              "\n",
              "  // Wait for the user to pick the files.\n",
              "  const files = yield {\n",
              "    promise: Promise.race([pickedPromise, cancelPromise]),\n",
              "    response: {\n",
              "      action: 'starting',\n",
              "    }\n",
              "  };\n",
              "\n",
              "  cancel.remove();\n",
              "\n",
              "  // Disable the input element since further picks are not allowed.\n",
              "  inputElement.disabled = true;\n",
              "\n",
              "  if (!files) {\n",
              "    return {\n",
              "      response: {\n",
              "        action: 'complete',\n",
              "      }\n",
              "    };\n",
              "  }\n",
              "\n",
              "  for (const file of files) {\n",
              "    const li = document.createElement('li');\n",
              "    li.append(span(file.name, {fontWeight: 'bold'}));\n",
              "    li.append(span(\n",
              "        `(${file.type || 'n/a'}) - ${file.size} bytes, ` +\n",
              "        `last modified: ${\n",
              "            file.lastModifiedDate ? file.lastModifiedDate.toLocaleDateString() :\n",
              "                                    'n/a'} - `));\n",
              "    const percent = span('0% done');\n",
              "    li.appendChild(percent);\n",
              "\n",
              "    outputElement.appendChild(li);\n",
              "\n",
              "    const fileDataPromise = new Promise((resolve) => {\n",
              "      const reader = new FileReader();\n",
              "      reader.onload = (e) => {\n",
              "        resolve(e.target.result);\n",
              "      };\n",
              "      reader.readAsArrayBuffer(file);\n",
              "    });\n",
              "    // Wait for the data to be ready.\n",
              "    let fileData = yield {\n",
              "      promise: fileDataPromise,\n",
              "      response: {\n",
              "        action: 'continue',\n",
              "      }\n",
              "    };\n",
              "\n",
              "    // Use a chunked sending to avoid message size limits. See b/62115660.\n",
              "    let position = 0;\n",
              "    do {\n",
              "      const length = Math.min(fileData.byteLength - position, MAX_PAYLOAD_SIZE);\n",
              "      const chunk = new Uint8Array(fileData, position, length);\n",
              "      position += length;\n",
              "\n",
              "      const base64 = btoa(String.fromCharCode.apply(null, chunk));\n",
              "      yield {\n",
              "        response: {\n",
              "          action: 'append',\n",
              "          file: file.name,\n",
              "          data: base64,\n",
              "        },\n",
              "      };\n",
              "\n",
              "      let percentDone = fileData.byteLength === 0 ?\n",
              "          100 :\n",
              "          Math.round((position / fileData.byteLength) * 100);\n",
              "      percent.textContent = `${percentDone}% done`;\n",
              "\n",
              "    } while (position < fileData.byteLength);\n",
              "  }\n",
              "\n",
              "  // All done.\n",
              "  yield {\n",
              "    response: {\n",
              "      action: 'complete',\n",
              "    }\n",
              "  };\n",
              "}\n",
              "\n",
              "scope.google = scope.google || {};\n",
              "scope.google.colab = scope.google.colab || {};\n",
              "scope.google.colab._files = {\n",
              "  _uploadFiles,\n",
              "  _uploadFilesContinue,\n",
              "};\n",
              "})(self);\n",
              "</script> "
            ]
          },
          "metadata": {}
        },
        {
          "output_type": "stream",
          "name": "stdout",
          "text": [
            "Saving Sem título2.png to Sem título2.png\n",
            "\u001b[1m1/1\u001b[0m \u001b[32m━━━━━━━━━━━━━━━━━━━━\u001b[0m\u001b[37m\u001b[0m \u001b[1m0s\u001b[0m 43ms/step\n",
            "O modelo previu: 5\n"
          ]
        },
        {
          "output_type": "display_data",
          "data": {
            "text/plain": [
              "<Figure size 640x480 with 1 Axes>"
            ],
            "image/png": "[encoded data removed]"
          },
          "metadata": {}
        }
      ]
    },
    {
      "cell_type": "markdown",
      "source": [
        "Passos:\n",
        "\n",
        "Faz upload de uma imagem do seu computador.\n",
        "\n",
        "Pré-processa (redimensiona, normaliza e achata).\n",
        "\n",
        "Faz a predição e exibe o resultado."
      ],
      "metadata": {
        "id": "RkjJxYQmtqTT"
      }
    },
    {
      "cell_type": "markdown",
      "source": [
        "#[20] Carregar e Processar o test.csv"
      ],
      "metadata": {
        "id": "yASDMLWdyWoL"
      }
    },
    {
      "cell_type": "code",
      "source": [
        "# Carregar o arquivo de teste\n",
        "test_data = pd.read_csv('/content/sample_data/test.csv')\n",
        "\n",
        "# Extrair os dados (não há coluna 'label')\n",
        "x_test_new = test_data.values\n",
        "\n",
        "# Aplicar as mesmas transformações do treino\n",
        "x_test_new = x_test_new / 255.0  # Normalização\n",
        "x_test_new = imputer.transform(x_test_new)  # Usar o mesmo imputer treinado"
      ],
      "metadata": {
        "id": "9G3zJxSQvPMr"
      },
      "execution_count": 21,
      "outputs": []
    },
    {
      "cell_type": "markdown",
      "source": [
        "Detalhes:\n",
        "\n",
        "* O arquivo test.csv contém apenas as features (pixels), sem labels.\n",
        "\n",
        "* Aplicamos a mesma normalização (/255.0) e imputação usadas nos dados de treino."
      ],
      "metadata": {
        "id": "q9JiZi0YyX7Y"
      }
    },
    {
      "cell_type": "markdown",
      "source": [
        "#[21] Fazer Previsões com a Rede Neural"
      ],
      "metadata": {
        "id": "Oy15SRFaycow"
      }
    },
    {
      "cell_type": "code",
      "source": [
        "# Fazer previsões\n",
        "preds_nn_new = model.predict(x_test_new)\n",
        "preds_nn_labels = np.argmax(preds_nn_new, axis=1)  # Converter one-hot para labels"
      ],
      "metadata": {
        "colab": {
          "base_uri": "https://localhost:8080/",
          "height": 0
        },
        "id": "ytULVMPTxSzK",
        "outputId": "9777ac78-4f9c-43c9-827d-e658d93fa209"
      },
      "execution_count": 22,
      "outputs": [
        {
          "output_type": "stream",
          "name": "stdout",
          "text": [
            "\u001b[1m875/875\u001b[0m \u001b[32m━━━━━━━━━━━━━━━━━━━━\u001b[0m\u001b[37m\u001b[0m \u001b[1m2s\u001b[0m 2ms/step\n"
          ]
        }
      ]
    },
    {
      "cell_type": "markdown",
      "source": [
        "Saída:\n",
        "\n",
        "* preds_nn_labels: Array com as previsões (números entre 0 e 9)."
      ],
      "metadata": {
        "id": "3Qz6LuZOyed4"
      }
    },
    {
      "cell_type": "markdown",
      "source": [
        "#[22] Criar Arquivo de Submissão (Formato Competição)"
      ],
      "metadata": {
        "id": "lg0CDWx1yjHj"
      }
    },
    {
      "cell_type": "code",
      "source": [
        "# Criar DataFrame para submissão\n",
        "submission = pd.DataFrame({\n",
        "    'ImageId': range(1, len(preds_nn_labels) + 1),  # IDs começam em 1\n",
        "    'Label': preds_nn_labels\n",
        "})\n",
        "\n",
        "# Salvar e fazer download\n",
        "submission.to_csv('submission.csv', index=False)\n",
        "files.download('submission.csv')  # Download automático no Colab"
      ],
      "metadata": {
        "colab": {
          "base_uri": "https://localhost:8080/",
          "height": 17
        },
        "id": "0Z34CMY2xbUa",
        "outputId": "1219f9ba-924a-47db-b4a3-d46440353892"
      },
      "execution_count": 23,
      "outputs": [
        {
          "output_type": "display_data",
          "data": {
            "text/plain": [
              "<IPython.core.display.Javascript object>"
            ],
            "application/javascript": [
              "\n",
              "    async function download(id, filename, size) {\n",
              "      if (!google.colab.kernel.accessAllowed) {\n",
              "        return;\n",
              "      }\n",
              "      const div = document.createElement('div');\n",
              "      const label = document.createElement('label');\n",
              "      label.textContent = `Downloading \"${filename}\": `;\n",
              "      div.appendChild(label);\n",
              "      const progress = document.createElement('progress');\n",
              "      progress.max = size;\n",
              "      div.appendChild(progress);\n",
              "      document.body.appendChild(div);\n",
              "\n",
              "      const buffers = [];\n",
              "      let downloaded = 0;\n",
              "\n",
              "      const channel = await google.colab.kernel.comms.open(id);\n",
              "      // Send a message to notify the kernel that we're ready.\n",
              "      channel.send({})\n",
              "\n",
              "      for await (const message of channel.messages) {\n",
              "        // Send a message to notify the kernel that we're ready.\n",
              "        channel.send({})\n",
              "        if (message.buffers) {\n",
              "          for (const buffer of message.buffers) {\n",
              "            buffers.push(buffer);\n",
              "            downloaded += buffer.byteLength;\n",
              "            progress.value = downloaded;\n",
              "          }\n",
              "        }\n",
              "      }\n",
              "      const blob = new Blob(buffers, {type: 'application/binary'});\n",
              "      const a = document.createElement('a');\n",
              "      a.href = window.URL.createObjectURL(blob);\n",
              "      a.download = filename;\n",
              "      div.appendChild(a);\n",
              "      a.click();\n",
              "      div.remove();\n",
              "    }\n",
              "  "
            ]
          },
          "metadata": {}
        },
        {
          "output_type": "display_data",
          "data": {
            "text/plain": [
              "<IPython.core.display.Javascript object>"
            ],
            "application/javascript": [
              "download(\"download_f4f43a22-e219-4f3f-99d4-27d1d93f96e3\", \"submission.csv\", 212908)"
            ]
          },
          "metadata": {}
        }
      ]
    },
    {
      "cell_type": "markdown",
      "source": [
        "Formato do Arquivo:\n",
        "\n",
        "ImageId |\tLabel\n",
        "--------|-------\n",
        "1\t| 2\n",
        "2\t| 0\n",
        "...\t| ...\n"
      ],
      "metadata": {
        "id": "Mvjsq18Qykn4"
      }
    },
    {
      "cell_type": "markdown",
      "source": [
        "#[23] Visualizar Previsões (Opcional)"
      ],
      "metadata": {
        "id": "mG_Uu8fazWdm"
      }
    },
    {
      "cell_type": "code",
      "source": [
        "# Visualizar x imagens aleatórias com previsões\n",
        "plt.figure(figsize=(12, 6))\n",
        "tests = 20\n",
        "indices = np.random.choice(len(x_test_new), tests, replace=False)\n",
        "\n",
        "# Change subplot layout to accommodate 20 plots\n",
        "for i, idx in enumerate(indices):\n",
        "    img = x_test_new[idx].reshape(28, 28)\n",
        "    pred_label = preds_nn_labels[idx]\n",
        "\n",
        "    rows = int(tests/5)\n",
        "    # Use 4 rows and 5 columns to accommodate 20 subplots\n",
        "    plt.subplot(rows, 5, i + 1)\n",
        "    plt.imshow(img, cmap='gray')\n",
        "    plt.title(f'Pred: {pred_label}')\n",
        "    plt.axis('off')\n",
        "\n",
        "plt.show()"
      ],
      "metadata": {
        "colab": {
          "base_uri": "https://localhost:8080/",
          "height": 521
        },
        "id": "myULotFdxgX5",
        "outputId": "aebb16ab-188b-4bea-848d-dcc51024f857"
      },
      "execution_count": 28,
      "outputs": [
        {
          "output_type": "display_data",
          "data": {
            "text/plain": [
              "<Figure size 1200x600 with 20 Axes>"
            ],
            "image/png": "[encoded data removed]"
          },
          "metadata": {}
        }
      ]
    },
    {
      "cell_type": "markdown",
      "source": [
        "Saída:\n",
        "* Gráfico com 10 imagens do test.csv e as previsões do modelo."
      ],
      "metadata": {
        "id": "Tjyg5QCqzYX6"
      }
    }
  ]
}